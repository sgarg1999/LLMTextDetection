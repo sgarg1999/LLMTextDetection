{
 "cells": [
  {
   "cell_type": "code",
   "execution_count": 1,
   "id": "afad0eb7",
   "metadata": {
    "execution": {
     "iopub.execute_input": "2023-12-15T04:39:08.516620Z",
     "iopub.status.busy": "2023-12-15T04:39:08.516090Z",
     "iopub.status.idle": "2023-12-15T04:39:09.131859Z",
     "shell.execute_reply": "2023-12-15T04:39:09.130716Z"
    },
    "papermill": {
     "duration": 0.624724,
     "end_time": "2023-12-15T04:39:09.134004",
     "exception": false,
     "start_time": "2023-12-15T04:39:08.509280",
     "status": "completed"
    },
    "tags": []
   },
   "outputs": [],
   "source": [
    "import pandas as pd\n",
    "import numpy as np\n",
    "\n",
    "import re"
   ]
  },
  {
   "cell_type": "code",
   "execution_count": 2,
   "id": "b5b7112f",
   "metadata": {
    "execution": {
     "iopub.execute_input": "2023-12-15T04:39:09.145555Z",
     "iopub.status.busy": "2023-12-15T04:39:09.145116Z",
     "iopub.status.idle": "2023-12-15T04:39:09.149617Z",
     "shell.execute_reply": "2023-12-15T04:39:09.148588Z"
    },
    "papermill": {
     "duration": 0.01203,
     "end_time": "2023-12-15T04:39:09.151368",
     "exception": false,
     "start_time": "2023-12-15T04:39:09.139338",
     "status": "completed"
    },
    "tags": []
   },
   "outputs": [],
   "source": [
    "RANDOM_SEED = 42"
   ]
  },
  {
   "cell_type": "code",
   "execution_count": 3,
   "id": "a00635e9",
   "metadata": {
    "execution": {
     "iopub.execute_input": "2023-12-15T04:39:09.162240Z",
     "iopub.status.busy": "2023-12-15T04:39:09.161966Z",
     "iopub.status.idle": "2023-12-15T04:39:11.386087Z",
     "shell.execute_reply": "2023-12-15T04:39:11.384834Z"
    },
    "papermill": {
     "duration": 2.231905,
     "end_time": "2023-12-15T04:39:11.388245",
     "exception": false,
     "start_time": "2023-12-15T04:39:09.156340",
     "status": "completed"
    },
    "tags": []
   },
   "outputs": [],
   "source": [
    "# Loading datasets\n",
    "daigtv2_train = pd.read_csv('/kaggle/input/daigt-v2-train-dataset/train_v2_drcat_02.csv')\n",
    "\n",
    "sample_submission = pd.read_csv('/kaggle/input/llm-detect-ai-generated-text/sample_submission.csv')\n",
    "train_prompts = pd.read_csv('/kaggle/input/llm-detect-ai-generated-text/train_prompts.csv')\n",
    "train_essays = pd.read_csv('/kaggle/input/llm-detect-ai-generated-text/train_essays.csv')\n",
    "test_essays = pd.read_csv('/kaggle/input/llm-detect-ai-generated-text/test_essays.csv')"
   ]
  },
  {
   "cell_type": "markdown",
   "id": "f3be668d",
   "metadata": {
    "execution": {
     "iopub.execute_input": "2023-12-15T00:15:11.516946Z",
     "iopub.status.busy": "2023-12-15T00:15:11.516506Z",
     "iopub.status.idle": "2023-12-15T00:15:11.522343Z",
     "shell.execute_reply": "2023-12-15T00:15:11.521099Z",
     "shell.execute_reply.started": "2023-12-15T00:15:11.516914Z"
    },
    "papermill": {
     "duration": 0.00459,
     "end_time": "2023-12-15T04:39:11.398108",
     "exception": false,
     "start_time": "2023-12-15T04:39:11.393518",
     "status": "completed"
    },
    "tags": []
   },
   "source": [
    "# Data Exploration"
   ]
  },
  {
   "cell_type": "code",
   "execution_count": 4,
   "id": "efc4bc87",
   "metadata": {
    "execution": {
     "iopub.execute_input": "2023-12-15T04:39:11.410732Z",
     "iopub.status.busy": "2023-12-15T04:39:11.409865Z",
     "iopub.status.idle": "2023-12-15T04:39:11.426160Z",
     "shell.execute_reply": "2023-12-15T04:39:11.425288Z"
    },
    "papermill": {
     "duration": 0.025267,
     "end_time": "2023-12-15T04:39:11.428946",
     "exception": false,
     "start_time": "2023-12-15T04:39:11.403679",
     "status": "completed"
    },
    "tags": []
   },
   "outputs": [
    {
     "data": {
      "text/plain": [
       "generated\n",
       "0    1375\n",
       "1       3\n",
       "Name: count, dtype: int64"
      ]
     },
     "execution_count": 4,
     "metadata": {},
     "output_type": "execute_result"
    }
   ],
   "source": [
    "train_essays['generated'].value_counts(normalize = False)"
   ]
  },
  {
   "cell_type": "code",
   "execution_count": 5,
   "id": "fa22ddef",
   "metadata": {
    "execution": {
     "iopub.execute_input": "2023-12-15T04:39:11.439890Z",
     "iopub.status.busy": "2023-12-15T04:39:11.439631Z",
     "iopub.status.idle": "2023-12-15T04:39:11.444513Z",
     "shell.execute_reply": "2023-12-15T04:39:11.443682Z"
    },
    "papermill": {
     "duration": 0.012412,
     "end_time": "2023-12-15T04:39:11.446384",
     "exception": false,
     "start_time": "2023-12-15T04:39:11.433972",
     "status": "completed"
    },
    "tags": []
   },
   "outputs": [],
   "source": [
    "# Since there are only 3 samples of the positive class, I will import an external dataset to help us train a model."
   ]
  },
  {
   "cell_type": "code",
   "execution_count": 6,
   "id": "033ba1de",
   "metadata": {
    "execution": {
     "iopub.execute_input": "2023-12-15T04:39:11.457525Z",
     "iopub.status.busy": "2023-12-15T04:39:11.457234Z",
     "iopub.status.idle": "2023-12-15T04:39:11.471586Z",
     "shell.execute_reply": "2023-12-15T04:39:11.470761Z"
    },
    "papermill": {
     "duration": 0.021752,
     "end_time": "2023-12-15T04:39:11.473373",
     "exception": false,
     "start_time": "2023-12-15T04:39:11.451621",
     "status": "completed"
    },
    "tags": []
   },
   "outputs": [
    {
     "data": {
      "text/html": [
       "<div>\n",
       "<style scoped>\n",
       "    .dataframe tbody tr th:only-of-type {\n",
       "        vertical-align: middle;\n",
       "    }\n",
       "\n",
       "    .dataframe tbody tr th {\n",
       "        vertical-align: top;\n",
       "    }\n",
       "\n",
       "    .dataframe thead th {\n",
       "        text-align: right;\n",
       "    }\n",
       "</style>\n",
       "<table border=\"1\" class=\"dataframe\">\n",
       "  <thead>\n",
       "    <tr style=\"text-align: right;\">\n",
       "      <th></th>\n",
       "      <th>text</th>\n",
       "      <th>label</th>\n",
       "      <th>prompt_name</th>\n",
       "      <th>source</th>\n",
       "      <th>RDizzl3_seven</th>\n",
       "    </tr>\n",
       "  </thead>\n",
       "  <tbody>\n",
       "    <tr>\n",
       "      <th>0</th>\n",
       "      <td>Phones\\n\\nModern humans today are always on th...</td>\n",
       "      <td>0</td>\n",
       "      <td>Phones and driving</td>\n",
       "      <td>persuade_corpus</td>\n",
       "      <td>False</td>\n",
       "    </tr>\n",
       "    <tr>\n",
       "      <th>1</th>\n",
       "      <td>This essay will explain if drivers should or s...</td>\n",
       "      <td>0</td>\n",
       "      <td>Phones and driving</td>\n",
       "      <td>persuade_corpus</td>\n",
       "      <td>False</td>\n",
       "    </tr>\n",
       "    <tr>\n",
       "      <th>2</th>\n",
       "      <td>Driving while the use of cellular devices\\n\\nT...</td>\n",
       "      <td>0</td>\n",
       "      <td>Phones and driving</td>\n",
       "      <td>persuade_corpus</td>\n",
       "      <td>False</td>\n",
       "    </tr>\n",
       "    <tr>\n",
       "      <th>3</th>\n",
       "      <td>Phones &amp; Driving\\n\\nDrivers should not be able...</td>\n",
       "      <td>0</td>\n",
       "      <td>Phones and driving</td>\n",
       "      <td>persuade_corpus</td>\n",
       "      <td>False</td>\n",
       "    </tr>\n",
       "    <tr>\n",
       "      <th>4</th>\n",
       "      <td>Cell Phone Operation While Driving\\n\\nThe abil...</td>\n",
       "      <td>0</td>\n",
       "      <td>Phones and driving</td>\n",
       "      <td>persuade_corpus</td>\n",
       "      <td>False</td>\n",
       "    </tr>\n",
       "  </tbody>\n",
       "</table>\n",
       "</div>"
      ],
      "text/plain": [
       "                                                text  label  \\\n",
       "0  Phones\\n\\nModern humans today are always on th...      0   \n",
       "1  This essay will explain if drivers should or s...      0   \n",
       "2  Driving while the use of cellular devices\\n\\nT...      0   \n",
       "3  Phones & Driving\\n\\nDrivers should not be able...      0   \n",
       "4  Cell Phone Operation While Driving\\n\\nThe abil...      0   \n",
       "\n",
       "          prompt_name           source  RDizzl3_seven  \n",
       "0  Phones and driving  persuade_corpus          False  \n",
       "1  Phones and driving  persuade_corpus          False  \n",
       "2  Phones and driving  persuade_corpus          False  \n",
       "3  Phones and driving  persuade_corpus          False  \n",
       "4  Phones and driving  persuade_corpus          False  "
      ]
     },
     "execution_count": 6,
     "metadata": {},
     "output_type": "execute_result"
    }
   ],
   "source": [
    "daigtv2_train.head()"
   ]
  },
  {
   "cell_type": "code",
   "execution_count": 7,
   "id": "bca386bb",
   "metadata": {
    "execution": {
     "iopub.execute_input": "2023-12-15T04:39:11.484790Z",
     "iopub.status.busy": "2023-12-15T04:39:11.484427Z",
     "iopub.status.idle": "2023-12-15T04:39:11.493391Z",
     "shell.execute_reply": "2023-12-15T04:39:11.492248Z"
    },
    "papermill": {
     "duration": 0.0165,
     "end_time": "2023-12-15T04:39:11.495037",
     "exception": false,
     "start_time": "2023-12-15T04:39:11.478537",
     "status": "completed"
    },
    "tags": []
   },
   "outputs": [
    {
     "data": {
      "text/plain": [
       "label\n",
       "0    0.610034\n",
       "1    0.389966\n",
       "Name: proportion, dtype: float64"
      ]
     },
     "execution_count": 7,
     "metadata": {},
     "output_type": "execute_result"
    }
   ],
   "source": [
    "# More balanced\n",
    "daigtv2_train['label'].value_counts(normalize = True)"
   ]
  },
  {
   "cell_type": "code",
   "execution_count": 8,
   "id": "fa9c1217",
   "metadata": {
    "execution": {
     "iopub.execute_input": "2023-12-15T04:39:11.506701Z",
     "iopub.status.busy": "2023-12-15T04:39:11.506360Z",
     "iopub.status.idle": "2023-12-15T04:39:11.514057Z",
     "shell.execute_reply": "2023-12-15T04:39:11.513117Z"
    },
    "papermill": {
     "duration": 0.015667,
     "end_time": "2023-12-15T04:39:11.515789",
     "exception": false,
     "start_time": "2023-12-15T04:39:11.500122",
     "status": "completed"
    },
    "tags": []
   },
   "outputs": [
    {
     "data": {
      "text/plain": [
       "label\n",
       "0    27371\n",
       "1    17497\n",
       "Name: count, dtype: int64"
      ]
     },
     "execution_count": 8,
     "metadata": {},
     "output_type": "execute_result"
    }
   ],
   "source": [
    "# Lots of samples!\n",
    "daigtv2_train['label'].value_counts(normalize = False)"
   ]
  },
  {
   "cell_type": "code",
   "execution_count": 9,
   "id": "5bd58436",
   "metadata": {
    "execution": {
     "iopub.execute_input": "2023-12-15T04:39:11.527210Z",
     "iopub.status.busy": "2023-12-15T04:39:11.526948Z",
     "iopub.status.idle": "2023-12-15T04:39:11.538088Z",
     "shell.execute_reply": "2023-12-15T04:39:11.537217Z"
    },
    "papermill": {
     "duration": 0.018875,
     "end_time": "2023-12-15T04:39:11.539841",
     "exception": false,
     "start_time": "2023-12-15T04:39:11.520966",
     "status": "completed"
    },
    "tags": []
   },
   "outputs": [
    {
     "data": {
      "text/plain": [
       "source\n",
       "persuade_corpus                       25996\n",
       "mistral7binstruct_v1                   2421\n",
       "mistral7binstruct_v2                   2421\n",
       "chat_gpt_moth                          2421\n",
       "llama2_chat                            2421\n",
       "kingki19_palm                          1384\n",
       "train_essays                           1378\n",
       "llama_70b_v1                           1172\n",
       "falcon_180b_v1                         1055\n",
       "darragh_claude_v6                      1000\n",
       "darragh_claude_v7                      1000\n",
       "radek_500                               500\n",
       "NousResearch/Llama-2-7b-chat-hf         400\n",
       "mistralai/Mistral-7B-Instruct-v0.1      400\n",
       "cohere-command                          350\n",
       "palm-text-bison1                        349\n",
       "radekgpt4                               200\n",
       "Name: count, dtype: int64"
      ]
     },
     "execution_count": 9,
     "metadata": {},
     "output_type": "execute_result"
    }
   ],
   "source": [
    "# There are a huge number of data points from the 'persuade_corpus' model (?), lets try and undersample these to reduce any potential bias\n",
    "daigtv2_train['source'].value_counts()"
   ]
  },
  {
   "cell_type": "code",
   "execution_count": 10,
   "id": "94d16747",
   "metadata": {
    "execution": {
     "iopub.execute_input": "2023-12-15T04:39:11.551461Z",
     "iopub.status.busy": "2023-12-15T04:39:11.551123Z",
     "iopub.status.idle": "2023-12-15T04:39:11.564646Z",
     "shell.execute_reply": "2023-12-15T04:39:11.563930Z"
    },
    "papermill": {
     "duration": 0.021104,
     "end_time": "2023-12-15T04:39:11.566270",
     "exception": false,
     "start_time": "2023-12-15T04:39:11.545166",
     "status": "completed"
    },
    "tags": []
   },
   "outputs": [],
   "source": [
    "# Dropping 'train_essays' rows to avoid leakage\n",
    "daigtv2_train = daigtv2_train[daigtv2_train['source'] != 'train_essays']"
   ]
  },
  {
   "cell_type": "markdown",
   "id": "28e85519",
   "metadata": {
    "papermill": {
     "duration": 0.004942,
     "end_time": "2023-12-15T04:39:11.576576",
     "exception": false,
     "start_time": "2023-12-15T04:39:11.571634",
     "status": "completed"
    },
    "tags": []
   },
   "source": [
    "# Creating an artificial dataset"
   ]
  },
  {
   "cell_type": "markdown",
   "id": "21e5d0ef",
   "metadata": {
    "execution": {
     "iopub.execute_input": "2023-12-15T00:21:55.270994Z",
     "iopub.status.busy": "2023-12-15T00:21:55.270582Z",
     "iopub.status.idle": "2023-12-15T00:21:55.276129Z",
     "shell.execute_reply": "2023-12-15T00:21:55.274887Z",
     "shell.execute_reply.started": "2023-12-15T00:21:55.270961Z"
    },
    "papermill": {
     "duration": 0.004991,
     "end_time": "2023-12-15T04:39:11.586802",
     "exception": false,
     "start_time": "2023-12-15T04:39:11.581811",
     "status": "completed"
    },
    "tags": []
   },
   "source": [
    "## Resampling `persuade_corpus` examples"
   ]
  },
  {
   "cell_type": "markdown",
   "id": "d79fd366",
   "metadata": {
    "papermill": {
     "duration": 0.005535,
     "end_time": "2023-12-15T04:39:11.598134",
     "exception": false,
     "start_time": "2023-12-15T04:39:11.592599",
     "status": "completed"
    },
    "tags": []
   },
   "source": [
    "persuade_corpus represent examples generated by humans (not LLMs)"
   ]
  },
  {
   "cell_type": "code",
   "execution_count": 11,
   "id": "67db3818",
   "metadata": {
    "execution": {
     "iopub.execute_input": "2023-12-15T04:39:11.611529Z",
     "iopub.status.busy": "2023-12-15T04:39:11.611100Z",
     "iopub.status.idle": "2023-12-15T04:39:11.627724Z",
     "shell.execute_reply": "2023-12-15T04:39:11.626559Z"
    },
    "papermill": {
     "duration": 0.025763,
     "end_time": "2023-12-15T04:39:11.629528",
     "exception": false,
     "start_time": "2023-12-15T04:39:11.603765",
     "status": "completed"
    },
    "tags": []
   },
   "outputs": [
    {
     "name": "stdout",
     "output_type": "stream",
     "text": [
      "17494 25996\n"
     ]
    }
   ],
   "source": [
    "# Filter for dataframes with only 'persuade_corpus' examples, and completely without\n",
    "non_persuade_corpus = daigtv2_train[daigtv2_train['source'] != 'persuade_corpus']\n",
    "persuade_corpus = daigtv2_train[daigtv2_train['source'] == 'persuade_corpus']\n",
    "\n",
    "print(len(non_persuade_corpus), len(persuade_corpus))"
   ]
  },
  {
   "cell_type": "code",
   "execution_count": 12,
   "id": "cae6707b",
   "metadata": {
    "execution": {
     "iopub.execute_input": "2023-12-15T04:39:11.642605Z",
     "iopub.status.busy": "2023-12-15T04:39:11.642231Z",
     "iopub.status.idle": "2023-12-15T04:39:11.657329Z",
     "shell.execute_reply": "2023-12-15T04:39:11.656293Z"
    },
    "papermill": {
     "duration": 0.023576,
     "end_time": "2023-12-15T04:39:11.658994",
     "exception": false,
     "start_time": "2023-12-15T04:39:11.635418",
     "status": "completed"
    },
    "tags": []
   },
   "outputs": [],
   "source": [
    "# Setting random seed before numpy random operation\n",
    "np.random.seed(RANDOM_SEED)\n",
    "\n",
    "undersampled_persuade_corpus_indices = np.random.choice(persuade_corpus.index, size=15000, replace=False, )\n",
    "daigtv2_train_usamp = pd.concat([non_persuade_corpus, persuade_corpus.iloc[undersampled_persuade_corpus_indices]])"
   ]
  },
  {
   "cell_type": "code",
   "execution_count": 13,
   "id": "2a493e03",
   "metadata": {
    "execution": {
     "iopub.execute_input": "2023-12-15T04:39:11.671161Z",
     "iopub.status.busy": "2023-12-15T04:39:11.670840Z",
     "iopub.status.idle": "2023-12-15T04:39:11.678700Z",
     "shell.execute_reply": "2023-12-15T04:39:11.678099Z"
    },
    "papermill": {
     "duration": 0.015587,
     "end_time": "2023-12-15T04:39:11.680092",
     "exception": false,
     "start_time": "2023-12-15T04:39:11.664505",
     "status": "completed"
    },
    "tags": []
   },
   "outputs": [
    {
     "data": {
      "text/plain": [
       "source\n",
       "persuade_corpus                       15000\n",
       "mistral7binstruct_v2                   2421\n",
       "chat_gpt_moth                          2421\n",
       "mistral7binstruct_v1                   2421\n",
       "llama2_chat                            2421\n",
       "kingki19_palm                          1384\n",
       "llama_70b_v1                           1172\n",
       "falcon_180b_v1                         1055\n",
       "darragh_claude_v7                      1000\n",
       "darragh_claude_v6                      1000\n",
       "radek_500                               500\n",
       "NousResearch/Llama-2-7b-chat-hf         400\n",
       "mistralai/Mistral-7B-Instruct-v0.1      400\n",
       "cohere-command                          350\n",
       "palm-text-bison1                        349\n",
       "radekgpt4                               200\n",
       "Name: count, dtype: int64"
      ]
     },
     "execution_count": 13,
     "metadata": {},
     "output_type": "execute_result"
    }
   ],
   "source": [
    "# Much more balanced!\n",
    "daigtv2_train_usamp['source'].value_counts(normalize = False)"
   ]
  },
  {
   "cell_type": "code",
   "execution_count": 14,
   "id": "4d4dbb23",
   "metadata": {
    "execution": {
     "iopub.execute_input": "2023-12-15T04:39:11.692169Z",
     "iopub.status.busy": "2023-12-15T04:39:11.691864Z",
     "iopub.status.idle": "2023-12-15T04:39:11.698931Z",
     "shell.execute_reply": "2023-12-15T04:39:11.698138Z"
    },
    "papermill": {
     "duration": 0.014909,
     "end_time": "2023-12-15T04:39:11.700451",
     "exception": false,
     "start_time": "2023-12-15T04:39:11.685542",
     "status": "completed"
    },
    "tags": []
   },
   "outputs": [
    {
     "data": {
      "text/plain": [
       "label\n",
       "1    17494\n",
       "0    15000\n",
       "Name: count, dtype: int64"
      ]
     },
     "execution_count": 14,
     "metadata": {},
     "output_type": "execute_result"
    }
   ],
   "source": [
    "daigtv2_train_usamp['label'].value_counts()"
   ]
  },
  {
   "cell_type": "code",
   "execution_count": null,
   "id": "c8abccfc",
   "metadata": {
    "papermill": {
     "duration": 0.005345,
     "end_time": "2023-12-15T04:39:11.711572",
     "exception": false,
     "start_time": "2023-12-15T04:39:11.706227",
     "status": "completed"
    },
    "tags": []
   },
   "outputs": [],
   "source": []
  },
  {
   "cell_type": "markdown",
   "id": "96693c55",
   "metadata": {
    "papermill": {
     "duration": 0.005288,
     "end_time": "2023-12-15T04:39:11.722302",
     "exception": false,
     "start_time": "2023-12-15T04:39:11.717014",
     "status": "completed"
    },
    "tags": []
   },
   "source": [
    "# Cleaning the text"
   ]
  },
  {
   "cell_type": "code",
   "execution_count": 15,
   "id": "a5664fd5",
   "metadata": {
    "execution": {
     "iopub.execute_input": "2023-12-15T04:39:11.734435Z",
     "iopub.status.busy": "2023-12-15T04:39:11.734153Z",
     "iopub.status.idle": "2023-12-15T04:39:13.475052Z",
     "shell.execute_reply": "2023-12-15T04:39:13.474181Z"
    },
    "papermill": {
     "duration": 1.750131,
     "end_time": "2023-12-15T04:39:13.477994",
     "exception": false,
     "start_time": "2023-12-15T04:39:11.727863",
     "status": "completed"
    },
    "tags": []
   },
   "outputs": [
    {
     "name": "stdout",
     "output_type": "stream",
     "text": [
      "['\\n', '\\r', ' ', '!', '\"', '#', '$', '%', '&', \"'\", '(', ')', '*', '+', ',', '-', '.', '/', '0', '1', '2', '3', '4', '5', '6', '7', '8', '9', ':', ';', '<', '=', '>', '?', '@', '[', '\\\\', ']', '^', '_', '`', 'a', 'b', 'c', 'd', 'e', 'f', 'g', 'h', 'i', 'j', 'k', 'l', 'm', 'n', 'o', 'p', 'q', 'r', 's', 't', 'u', 'v', 'w', 'x', 'y', 'z', '{', '|', '}', '~', '\\x80', '\\x82', '\\x83', '\\x85', '\\x88', '\\x92', '\\x93', '\\x94', '\\x97', '\\x99', '\\x9f', '\\xa0', '¢', '£', '¨', '©', '«', '¬', '\\xad', '®', '°', '²', '´', '¶', '¸', '¹', 'º', 'á', 'â', 'ã', 'å', 'ç', 'é', 'ê', 'ë', 'í', 'ï', 'ó', '÷', 'ü', 'þ', 'ā', 'а', 'д', 'е', 'з', 'о', 'п', 'р', 'с', '\\u200b', '\\u200d', '–', '—', '‘', '’', '“', '”', '…', '⏰', '─', '╯', '□', '☀', '☹', '♀', '♂', '⚽', '✨', '❄', '。', 'あ', 'う', 'が', 'こ', 'す', 'せ', 'ち', 'と', 'に', 'は', 'ま', 'み', 'り', 'ん', '一', '上', '中', '使', '保', '全', '力', '取', '司', '合', '和', '响', '唯', '在', '安', '完', '将', '应', '影', '必', '意', '所', '手', '护', '择', '时', '是', '有', '机', '止', '法', '注', '用', '的', '禁', '者', '该', '路', '选', '道', '部', '都', '集', '须', '驶', '驾', '️', '�', '🇧', '🇪', '🇫', '🇯', '🇵', '🇷', '🇸', '🇺', '🌃', '🌄', '🌅', '🌈', '🌊', '🌌', '🌎', '🌏', '🌐', '🌞', '🌟', '🌠', '🌧', '🌨', '🌫', '🌭', '🌮', '🌯', '🌱', '🌲', '🌳', '🌴', '🌷', '🌸', '🌻', '🌽', '🌿', '🍁', '🍄', '🍋', '🍎', '🍓', '🍔', '🍕', '🍖', '🍗', '🍜', '🍝', '🍞', '🍟', '🍣', '🍭', '🍮', '🍰', '🍲', '🍳', '🍴', '🍷', '🍽', '🍿', '🎃', '🎄', '🎅', '🎈', '🎉', '🎊', '🎓', '🎠', '🎢', '🎣', '🎤', '🎥', '🎧', '🎨', '🎩', '🎬', '🎭', '🎮', '🎯', '🎵', '🎶', '🎸', '🎹', '🎾', '🏀', '🏃', '🏄', '🏆', '🏈', '🏊', '🏋', '🏏', '🏔', '🏕', '🏖', '🏙', '🏛', '🏜', '🏞', '🏟', '🏠', '🏡', '🏢', '🏥', '🏦', '🏨', '🏫', '🏯', '🏰', '🏳', '🏻', '🏼', '🏽', '🐆', '🐒', '🐕', '🐝', '🐟', '🐠', '🐢', '🐦', '🐧', '🐬', '🐭', '🐰', '🐱', '🐳', '🐴', '🐶', '🐸', '🐻', '🐾', '👀', '👂', '👇', '👋', '👌', '👍', '👏', '👕', '👥', '👦', '👧', '👨', '👩', '👪', '👫', '👬', '👮', '👯', '👻', '💀', '💁', '💃', '💅', '💆', '💇', '💉', '💊', '💔', '💕', '💖', '💘', '💚', '💜', '💡', '💤', '💥', '💦', '💧', '💨', '💪', '💫', '💬', '💭', '💯', '💰', '💸', '💻', '💼', '📄', '📅', '📈', '📉', '📊', '📖', '📚', '📝', '📞', '📣', '📦', '📧', '📰', '📱', '📷', '📸', '📹', '📺', '🔋', '🔍', '🔑', '🔜', '🔥', '🔧', '🔬', '🔭', '🔮', '🕒', '🕰', '🕵', '🕹', '🕺', '🗣', '🗳', '😁', '😂', '😃', '😄', '😅', '😆', '😈', '😉', '😊', '😋', '😌', '😍', '😎', '😒', '😓', '😔', '😕', '😖', '😘', '😜', '😝', '😠', '😡', '😢', '😤', '😨', '😩', '😬', '😭', '😮', '😱', '😲', '😳', '😴', '😵', '😷', '😹', '😻', '🙀', '🙃', '🙄', '🙅', '🙈', '🙊', '🙋', '🙌', '🙏', '🚀', '🚂', '🚌', '🚑', '🚔', '🚕', '🚗', '🚚', '🚣', '🚨', '🚪', '🚫', '🚭', '🚴', '🛀', '🛋', '🛍', '🛑', '🛠', '🛣', '🛫', '🛬', '🛸', '🤒', '🤓', '🤔', '🤕', '🤖', '🤗', '🤘', '🤛', '🤜', '🤝', '🤞', '🤟', '🤢', '🤣', '🤤', '🤦', '🤩', '🤪', '🤫', '🤯', '🤷', '🥁', '🥑', '🥔', '🥕', '🥖', '🥗', '🥘', '🥛', '🥜', '🥟', '🥤', '🥦', '🥨', '🥩', '🥪', '🥭', '🥯', '🥲', '🥳', '🥶', '🦁', '🦄', '🦎', '🦐', '🦸', '🧀', '🧐', '🧑', '🧖', '🧘', '🧙', '🧚', '🧠', '🧡', '🧦', '🧩', '🧬', '🧭', '🧹', '🧽']\n"
     ]
    }
   ],
   "source": [
    "# Checking vocabulary of human vs non human\n",
    "llm_vocab = set(''.join(daigtv2_train_usamp['text'].to_list()).lower())\n",
    "print(sorted(llm_vocab))"
   ]
  },
  {
   "cell_type": "code",
   "execution_count": 16,
   "id": "4bf5adbb",
   "metadata": {
    "execution": {
     "iopub.execute_input": "2023-12-15T04:39:13.491282Z",
     "iopub.status.busy": "2023-12-15T04:39:13.490963Z",
     "iopub.status.idle": "2023-12-15T04:39:14.277366Z",
     "shell.execute_reply": "2023-12-15T04:39:14.276490Z"
    },
    "papermill": {
     "duration": 0.795113,
     "end_time": "2023-12-15T04:39:14.279377",
     "exception": false,
     "start_time": "2023-12-15T04:39:13.484264",
     "status": "completed"
    },
    "tags": []
   },
   "outputs": [
    {
     "name": "stdout",
     "output_type": "stream",
     "text": [
      "['\\n', ' ', '!', '\"', '#', '$', '%', '&', \"'\", '(', ')', '*', '+', ',', '-', '.', '/', '0', '1', '2', '3', '4', '5', '6', '7', '8', '9', ':', ';', '<', '=', '>', '?', '@', '[', '\\\\', ']', '_', '`', 'a', 'b', 'c', 'd', 'e', 'f', 'g', 'h', 'i', 'j', 'k', 'l', 'm', 'n', 'o', 'p', 'q', 'r', 's', 't', 'u', 'v', 'w', 'x', 'y', 'z', '{', '|', '}', '~', '\\x80', '\\x82', '\\x83', '\\x85', '\\x88', '\\x92', '\\x93', '\\x94', '\\x97', '\\x99', '\\x9f', '\\xa0', '¢', '£', '¨', '©', '«', '\\xad', '®', '²', '´', '¶', '¸', '¹', 'º', 'á', 'â', 'ã', 'å', 'ë', 'ï', 'ó', 'þ']\n"
     ]
    }
   ],
   "source": [
    "# Checking vocabulary of human vs non human\n",
    "human_df = daigtv2_train_usamp[daigtv2_train_usamp['source'] == 'persuade_corpus']\n",
    "\n",
    "human_vocab = set(''.join(human_df['text'].to_list()).lower())\n",
    "print(sorted(human_vocab))"
   ]
  },
  {
   "cell_type": "code",
   "execution_count": 17,
   "id": "c3d89508",
   "metadata": {
    "execution": {
     "iopub.execute_input": "2023-12-15T04:39:14.292585Z",
     "iopub.status.busy": "2023-12-15T04:39:14.292231Z",
     "iopub.status.idle": "2023-12-15T04:39:14.297290Z",
     "shell.execute_reply": "2023-12-15T04:39:14.296359Z"
    },
    "papermill": {
     "duration": 0.013279,
     "end_time": "2023-12-15T04:39:14.298940",
     "exception": false,
     "start_time": "2023-12-15T04:39:14.285661",
     "status": "completed"
    },
    "tags": []
   },
   "outputs": [
    {
     "name": "stdout",
     "output_type": "stream",
     "text": [
      "['\\r', '^', '¬', '°', 'ç', 'é', 'ê', 'í', '÷', 'ü', 'ā', 'а', 'д', 'е', 'з', 'о', 'п', 'р', 'с', '\\u200b', '\\u200d', '–', '—', '‘', '’', '“', '”', '…', '⏰', '─', '╯', '□', '☀', '☹', '♀', '♂', '⚽', '✨', '❄', '。', 'あ', 'う', 'が', 'こ', 'す', 'せ', 'ち', 'と', 'に', 'は', 'ま', 'み', 'り', 'ん', '一', '上', '中', '使', '保', '全', '力', '取', '司', '合', '和', '响', '唯', '在', '安', '完', '将', '应', '影', '必', '意', '所', '手', '护', '择', '时', '是', '有', '机', '止', '法', '注', '用', '的', '禁', '者', '该', '路', '选', '道', '部', '都', '集', '须', '驶', '驾', '️', '�', '🇧', '🇪', '🇫', '🇯', '🇵', '🇷', '🇸', '🇺', '🌃', '🌄', '🌅', '🌈', '🌊', '🌌', '🌎', '🌏', '🌐', '🌞', '🌟', '🌠', '🌧', '🌨', '🌫', '🌭', '🌮', '🌯', '🌱', '🌲', '🌳', '🌴', '🌷', '🌸', '🌻', '🌽', '🌿', '🍁', '🍄', '🍋', '🍎', '🍓', '🍔', '🍕', '🍖', '🍗', '🍜', '🍝', '🍞', '🍟', '🍣', '🍭', '🍮', '🍰', '🍲', '🍳', '🍴', '🍷', '🍽', '🍿', '🎃', '🎄', '🎅', '🎈', '🎉', '🎊', '🎓', '🎠', '🎢', '🎣', '🎤', '🎥', '🎧', '🎨', '🎩', '🎬', '🎭', '🎮', '🎯', '🎵', '🎶', '🎸', '🎹', '🎾', '🏀', '🏃', '🏄', '🏆', '🏈', '🏊', '🏋', '🏏', '🏔', '🏕', '🏖', '🏙', '🏛', '🏜', '🏞', '🏟', '🏠', '🏡', '🏢', '🏥', '🏦', '🏨', '🏫', '🏯', '🏰', '🏳', '🏻', '🏼', '🏽', '🐆', '🐒', '🐕', '🐝', '🐟', '🐠', '🐢', '🐦', '🐧', '🐬', '🐭', '🐰', '🐱', '🐳', '🐴', '🐶', '🐸', '🐻', '🐾', '👀', '👂', '👇', '👋', '👌', '👍', '👏', '👕', '👥', '👦', '👧', '👨', '👩', '👪', '👫', '👬', '👮', '👯', '👻', '💀', '💁', '💃', '💅', '💆', '💇', '💉', '💊', '💔', '💕', '💖', '💘', '💚', '💜', '💡', '💤', '💥', '💦', '💧', '💨', '💪', '💫', '💬', '💭', '💯', '💰', '💸', '💻', '💼', '📄', '📅', '📈', '📉', '📊', '📖', '📚', '📝', '📞', '📣', '📦', '📧', '📰', '📱', '📷', '📸', '📹', '📺', '🔋', '🔍', '🔑', '🔜', '🔥', '🔧', '🔬', '🔭', '🔮', '🕒', '🕰', '🕵', '🕹', '🕺', '🗣', '🗳', '😁', '😂', '😃', '😄', '😅', '😆', '😈', '😉', '😊', '😋', '😌', '😍', '😎', '😒', '😓', '😔', '😕', '😖', '😘', '😜', '😝', '😠', '😡', '😢', '😤', '😨', '😩', '😬', '😭', '😮', '😱', '😲', '😳', '😴', '😵', '😷', '😹', '😻', '🙀', '🙃', '🙄', '🙅', '🙈', '🙊', '🙋', '🙌', '🙏', '🚀', '🚂', '🚌', '🚑', '🚔', '🚕', '🚗', '🚚', '🚣', '🚨', '🚪', '🚫', '🚭', '🚴', '🛀', '🛋', '🛍', '🛑', '🛠', '🛣', '🛫', '🛬', '🛸', '🤒', '🤓', '🤔', '🤕', '🤖', '🤗', '🤘', '🤛', '🤜', '🤝', '🤞', '🤟', '🤢', '🤣', '🤤', '🤦', '🤩', '🤪', '🤫', '🤯', '🤷', '🥁', '🥑', '🥔', '🥕', '🥖', '🥗', '🥘', '🥛', '🥜', '🥟', '🥤', '🥦', '🥨', '🥩', '🥪', '🥭', '🥯', '🥲', '🥳', '🥶', '🦁', '🦄', '🦎', '🦐', '🦸', '🧀', '🧐', '🧑', '🧖', '🧘', '🧙', '🧚', '🧠', '🧡', '🧦', '🧩', '🧬', '🧭', '🧹', '🧽']\n"
     ]
    }
   ],
   "source": [
    "# Looks like there are characters which the LLM generated text uses, that the non-LLM text never uses\n",
    "# We should remove this, as we would want the model to learn something a bit more profound than emojis, or characters from another language\n",
    "\n",
    "characters_to_strip = sorted(llm_vocab - human_vocab)\n",
    "print(characters_to_strip)"
   ]
  },
  {
   "cell_type": "code",
   "execution_count": 18,
   "id": "a04a9da4",
   "metadata": {
    "execution": {
     "iopub.execute_input": "2023-12-15T04:39:14.311756Z",
     "iopub.status.busy": "2023-12-15T04:39:14.311472Z",
     "iopub.status.idle": "2023-12-15T04:39:14.318069Z",
     "shell.execute_reply": "2023-12-15T04:39:14.317155Z"
    },
    "papermill": {
     "duration": 0.015041,
     "end_time": "2023-12-15T04:39:14.319792",
     "exception": false,
     "start_time": "2023-12-15T04:39:14.304751",
     "status": "completed"
    },
    "tags": []
   },
   "outputs": [
    {
     "data": {
      "text/plain": [
       "'HELLO! My name is Shivam'"
      ]
     },
     "execution_count": 18,
     "metadata": {},
     "output_type": "execute_result"
    }
   ],
   "source": [
    "# I will also append any non-ASCII (?) character remanants (e.g. \\x80, \\xad)\n",
    "\n",
    "def remove_non_ascii_characters(string, repl = ''):\n",
    "    \n",
    "    pat = re.compile(r'\\\\x[0-9a-fA-F]{1,2}\\S*')\n",
    "    subbed_string = re.sub(pat, repl, string)\n",
    "    subbed_string = ' '.join([word.strip() for word in subbed_string.split()])\n",
    "    \n",
    "    return subbed_string\n",
    "\n",
    "# Test\n",
    "remove_non_ascii_characters(r\"\\xad HELLO! \\x0 \\xa0 My name is \\x99 Shivam\")"
   ]
  },
  {
   "cell_type": "code",
   "execution_count": null,
   "id": "32111ab9",
   "metadata": {
    "papermill": {
     "duration": 0.005807,
     "end_time": "2023-12-15T04:39:14.331819",
     "exception": false,
     "start_time": "2023-12-15T04:39:14.326012",
     "status": "completed"
    },
    "tags": []
   },
   "outputs": [],
   "source": []
  }
 ],
 "metadata": {
  "kaggle": {
   "accelerator": "none",
   "dataSources": [
    {
     "databundleVersionId": 6888007,
     "sourceId": 61542,
     "sourceType": "competition"
    },
    {
     "datasetId": 4005256,
     "sourceId": 6977472,
     "sourceType": "datasetVersion"
    }
   ],
   "dockerImageVersionId": 30626,
   "isGpuEnabled": false,
   "isInternetEnabled": true,
   "language": "python",
   "sourceType": "notebook"
  },
  "kernelspec": {
   "display_name": "Python 3",
   "language": "python",
   "name": "python3"
  },
  "language_info": {
   "codemirror_mode": {
    "name": "ipython",
    "version": 3
   },
   "file_extension": ".py",
   "mimetype": "text/x-python",
   "name": "python",
   "nbconvert_exporter": "python",
   "pygments_lexer": "ipython3",
   "version": "3.10.12"
  },
  "papermill": {
   "default_parameters": {},
   "duration": 9.521993,
   "end_time": "2023-12-15T04:39:14.754525",
   "environment_variables": {},
   "exception": null,
   "input_path": "__notebook__.ipynb",
   "output_path": "__notebook__.ipynb",
   "parameters": {},
   "start_time": "2023-12-15T04:39:05.232532",
   "version": "2.4.0"
  }
 },
 "nbformat": 4,
 "nbformat_minor": 5
}
